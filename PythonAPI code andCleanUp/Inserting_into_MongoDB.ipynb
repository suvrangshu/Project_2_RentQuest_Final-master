{
 "cells": [
  {
   "cell_type": "code",
   "execution_count": 48,
   "metadata": {},
   "outputs": [],
   "source": [
    "#Importing all the required packages\n",
    "\n",
    "import pandas as pd\n",
    "import pymongo\n",
    "from bson.son import SON\n",
    "import numpy"
   ]
  },
  {
   "cell_type": "code",
   "execution_count": 49,
   "metadata": {},
   "outputs": [
    {
     "data": {
      "text/html": [
       "<div>\n",
       "<style scoped>\n",
       "    .dataframe tbody tr th:only-of-type {\n",
       "        vertical-align: middle;\n",
       "    }\n",
       "\n",
       "    .dataframe tbody tr th {\n",
       "        vertical-align: top;\n",
       "    }\n",
       "\n",
       "    .dataframe thead th {\n",
       "        text-align: right;\n",
       "    }\n",
       "</style>\n",
       "<table border=\"1\" class=\"dataframe\">\n",
       "  <thead>\n",
       "    <tr style=\"text-align: right;\">\n",
       "      <th></th>\n",
       "      <th>Region</th>\n",
       "      <th>area</th>\n",
       "      <th>bedrooms</th>\n",
       "      <th>name</th>\n",
       "      <th>price</th>\n",
       "      <th>url</th>\n",
       "      <th>where</th>\n",
       "      <th>Latitude</th>\n",
       "      <th>Longtitude</th>\n",
       "      <th>City</th>\n",
       "    </tr>\n",
       "  </thead>\n",
       "  <tbody>\n",
       "    <tr>\n",
       "      <th>0</th>\n",
       "      <td>sfc</td>\n",
       "      <td>NaN</td>\n",
       "      <td>3</td>\n",
       "      <td>$1575 Converted Bedroom in a New High-Rise Lux...</td>\n",
       "      <td>1575</td>\n",
       "      <td>https://sfbay.craigslist.org/sfc/apa/d/san-fra...</td>\n",
       "      <td>hayes valley</td>\n",
       "      <td>37.775159</td>\n",
       "      <td>-122.425053</td>\n",
       "      <td>san francisco</td>\n",
       "    </tr>\n",
       "    <tr>\n",
       "      <th>1</th>\n",
       "      <td>sfc</td>\n",
       "      <td>350ft2</td>\n",
       "      <td>0</td>\n",
       "      <td>1 bedroom 1 bath ground floor 2,100</td>\n",
       "      <td>2100</td>\n",
       "      <td>https://sfbay.craigslist.org/sfc/apa/d/san-fra...</td>\n",
       "      <td>inner richmond</td>\n",
       "      <td>37.778600</td>\n",
       "      <td>-122.489200</td>\n",
       "      <td>san francisco</td>\n",
       "    </tr>\n",
       "    <tr>\n",
       "      <th>2</th>\n",
       "      <td>sfc</td>\n",
       "      <td>NaN</td>\n",
       "      <td>2</td>\n",
       "      <td>OPEN HOUSE SUNDAY 4/7 Large 2 Bedroom Unit Ava...</td>\n",
       "      <td>3950</td>\n",
       "      <td>https://sfbay.craigslist.org/sfc/apa/d/san-fra...</td>\n",
       "      <td>pacific heights</td>\n",
       "      <td>37.787977</td>\n",
       "      <td>-122.448656</td>\n",
       "      <td>san francisco</td>\n",
       "    </tr>\n",
       "    <tr>\n",
       "      <th>3</th>\n",
       "      <td>sfc</td>\n",
       "      <td>NaN</td>\n",
       "      <td>2</td>\n",
       "      <td>38th Ave/Fulton - Freshly painted lg 2/1,  Clo...</td>\n",
       "      <td>3200</td>\n",
       "      <td>https://sfbay.craigslist.org/sfc/apa/d/san-fra...</td>\n",
       "      <td>richmond / seacliff</td>\n",
       "      <td>37.772315</td>\n",
       "      <td>-122.498142</td>\n",
       "      <td>daly city</td>\n",
       "    </tr>\n",
       "    <tr>\n",
       "      <th>4</th>\n",
       "      <td>sfc</td>\n",
       "      <td>NaN</td>\n",
       "      <td>2</td>\n",
       "      <td>2130 Santiago St.  : 2 Bedrooms, with 2 Baths ...</td>\n",
       "      <td>2700</td>\n",
       "      <td>https://sfbay.craigslist.org/sfc/apa/d/san-fra...</td>\n",
       "      <td>ingleside / SFSU / CCSF</td>\n",
       "      <td>37.744290</td>\n",
       "      <td>-122.490078</td>\n",
       "      <td>daly city</td>\n",
       "    </tr>\n",
       "  </tbody>\n",
       "</table>\n",
       "</div>"
      ],
      "text/plain": [
       "  Region    area  bedrooms                                               name  \\\n",
       "0    sfc     NaN         3  $1575 Converted Bedroom in a New High-Rise Lux...   \n",
       "1    sfc  350ft2         0                1 bedroom 1 bath ground floor 2,100   \n",
       "2    sfc     NaN         2  OPEN HOUSE SUNDAY 4/7 Large 2 Bedroom Unit Ava...   \n",
       "3    sfc     NaN         2  38th Ave/Fulton - Freshly painted lg 2/1,  Clo...   \n",
       "4    sfc     NaN         2  2130 Santiago St.  : 2 Bedrooms, with 2 Baths ...   \n",
       "\n",
       "   price                                                url  \\\n",
       "0   1575  https://sfbay.craigslist.org/sfc/apa/d/san-fra...   \n",
       "1   2100  https://sfbay.craigslist.org/sfc/apa/d/san-fra...   \n",
       "2   3950  https://sfbay.craigslist.org/sfc/apa/d/san-fra...   \n",
       "3   3200  https://sfbay.craigslist.org/sfc/apa/d/san-fra...   \n",
       "4   2700  https://sfbay.craigslist.org/sfc/apa/d/san-fra...   \n",
       "\n",
       "                     where   Latitude  Longtitude           City  \n",
       "0             hayes valley  37.775159 -122.425053  san francisco  \n",
       "1           inner richmond  37.778600 -122.489200  san francisco  \n",
       "2          pacific heights  37.787977 -122.448656  san francisco  \n",
       "3      richmond / seacliff  37.772315 -122.498142      daly city  \n",
       "4  ingleside / SFSU / CCSF  37.744290 -122.490078      daly city  "
      ]
     },
     "execution_count": 49,
     "metadata": {},
     "output_type": "execute_result"
    }
   ],
   "source": [
    "#Reading the CSV\n",
    "csv_file = \"craigslist.csv\"\n",
    "cragslist = pd.read_csv(csv_file)\n",
    "cragslist.head()"
   ]
  },
  {
   "cell_type": "code",
   "execution_count": 50,
   "metadata": {},
   "outputs": [],
   "source": [
    "#Making Mongo DB connections\n",
    "conn = 'mongodb://localhost:27017'\n",
    "client = pymongo.MongoClient(conn)\n",
    "\n",
    "#Creating DB\n",
    "db = client.rent_DB\n",
    "\n",
    "#Creating collections for the DB\n",
    "craigslist_collection = db.craigs.find()\n"
   ]
  },
  {
   "cell_type": "code",
   "execution_count": 51,
   "metadata": {},
   "outputs": [
    {
     "data": {
      "text/plain": [
       "<pymongo.results.InsertManyResult at 0x11697da0>"
      ]
     },
     "execution_count": 51,
     "metadata": {},
     "output_type": "execute_result"
    }
   ],
   "source": [
    "#Inserting into DB\n",
    "db.craigslist_collection.insert_many(cragslist.to_dict(\"records\"))"
   ]
  },
  {
   "cell_type": "code",
   "execution_count": null,
   "metadata": {},
   "outputs": [],
   "source": []
  }
 ],
 "metadata": {
  "kernelspec": {
   "display_name": "Python 3",
   "language": "python",
   "name": "python3"
  },
  "language_info": {
   "codemirror_mode": {
    "name": "ipython",
    "version": 3
   },
   "file_extension": ".py",
   "mimetype": "text/x-python",
   "name": "python",
   "nbconvert_exporter": "python",
   "pygments_lexer": "ipython3",
   "version": "3.7.0"
  }
 },
 "nbformat": 4,
 "nbformat_minor": 2
}
